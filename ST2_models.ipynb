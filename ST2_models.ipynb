{
 "cells": [
  {
   "cell_type": "markdown",
   "metadata": {},
   "source": [
    "### Jupyter notebook to analyze different ASReml models\n",
    "\n",
    "Special emphasis in Models for 'G_e' "
   ]
  },
  {
   "cell_type": "code",
   "execution_count": null,
   "metadata": {},
   "outputs": [],
   "source": [
    "rm(list = ls())"
   ]
  },
  {
   "cell_type": "code",
   "execution_count": null,
   "metadata": {},
   "outputs": [],
   "source": [
    "library(StageWise)\n",
    "library(asreml)\n",
    "library(data.table)\n",
    "library(tidyverse)\n",
    "library(asremlPlus)\n",
    "#################\n",
    "# 1 stage results\n",
    "# MS = 1_MSC\n",
    "# DM = 2_DM\n",
    "# He = 3_Height\n",
    "# Yi = 4_Yield\n",
    "# FD = 5_FD"
   ]
  },
  {
   "cell_type": "code",
   "execution_count": null,
   "metadata": {},
   "outputs": [],
   "source": [
    "# 2_FA\n",
    "# load(\"~/Documents/Cesar/git/big_files/data_6.RData\")\n",
    "list_5 <- c(\"env\", \"loc\", \"year\", \"cut\", \"gen\")\n",
    "head(Height_BLUE2)\n",
    "data <- Height_BLUE2\n",
    "class(data)\n",
    "data <- as.data.frame(data)\n",
    "str(data1)\n",
    "data[list_5] <- lapply(data[list_5], factor)\n",
    "data <- data[order(data$gen, data$env), ]\n",
    "data1 <- na.omit(data)"
   ]
  },
  {
   "cell_type": "code",
   "execution_count": null,
   "metadata": {},
   "outputs": [],
   "source": [
    "FA_1 <- asreml::asreml(fixed = BLUE ~ 1 + gen + loc, \n",
    "                       random = ~ + env + facv(env, 1):id(gen),\n",
    "                       data = data1, na.action = list(x = \"include\", y = \"include\"), \n",
    "                       weights = weight, family = asreml::asr_gaussian(dispersion = 1))"
   ]
  },
  {
   "cell_type": "code",
   "execution_count": null,
   "metadata": {},
   "outputs": [],
   "source": [
    "infoCriteria.asreml(FA_1)"
   ]
  },
  {
   "cell_type": "code",
   "execution_count": null,
   "metadata": {},
   "outputs": [],
   "source": [
    "\n",
    "\n",
    "\n",
    "\n",
    "\n",
    "\n",
    "FA_2 <- asreml::asreml(fixed = BLUE ~ 1 + gen + loc, \n",
    "                       random = ~ + env + facv(env, 2):id(gen),\n",
    "                       data = data1, na.action = list(x = \"include\", y = \"include\"), \n",
    "                       weights = weight, family = asreml::asr_gaussian(dispersion = 1))\n",
    "FA_2 <- update.asreml(FA_2)\n",
    "\n",
    "\n",
    "Diag <- asreml::asreml(fixed = BLUE ~ 1 + gen + loc, \n",
    "                       random = ~ + env + diag(env):id(gen),\n",
    "                       data = data1, na.action = list(x = \"include\", y = \"include\"), \n",
    "                       weights = weight, family = asreml::asr_gaussian(dispersion = 1))\n",
    "\n",
    "IDV <- asreml::asreml(fixed = BLUE ~ 1 + gen + loc, \n",
    "                       random = ~ + env + idv(env):idv(gen),\n",
    "                       data = data1, na.action = list(x = \"include\", y = \"include\"), \n",
    "                       weights = weight, family = asreml::asr_gaussian(dispersion = 1))\n",
    "\n",
    "IDV <- asreml::asreml(fixed = BLUE ~ 1 + env, \n",
    "                      random = ~ diag(env):idv(gen),\n",
    "                      data = data1, na.action = list(x = \"include\", y = \"include\"), \n",
    "                      weights = weight, family = asreml::asr_gaussian(dispersion = 1))\n",
    "\n",
    "#  Cross-classified model with GE \n",
    "mm2 <- asreml::asreml(fixed = BLUE ~ 1 + env,\n",
    "                      random = ~ gen + env:gen, \n",
    "                      residual = ~ dsum(~ env|gen), \n",
    "                      data = data1, na.action = list(x = \"include\", y = \"include\"), \n",
    "                      weights = weight, family = asreml::asr_gaussian(dispersion = 1))\n",
    "\n",
    "\n",
    "\n",
    "infoCriteria.asreml(FA_2)\n",
    "infoCriteria.asreml(Diag)\n",
    "infoCriteria.asreml(IDV)\n",
    "infoCriteria.asreml(mm2)"
   ]
  },
  {
   "cell_type": "code",
   "execution_count": null,
   "metadata": {},
   "outputs": [],
   "source": []
  },
  {
   "cell_type": "code",
   "execution_count": null,
   "metadata": {},
   "outputs": [],
   "source": []
  },
  {
   "cell_type": "code",
   "execution_count": null,
   "metadata": {},
   "outputs": [],
   "source": []
  },
  {
   "cell_type": "code",
   "execution_count": null,
   "metadata": {},
   "outputs": [],
   "source": []
  }
 ],
 "metadata": {
  "kernelspec": {
   "display_name": "R",
   "language": "R",
   "name": "ir"
  }
 },
 "nbformat": 4,
 "nbformat_minor": 2
}
